{
 "cells": [
  {
   "cell_type": "markdown",
   "metadata": {},
   "source": [
    "### Imports"
   ]
  },
  {
   "cell_type": "code",
   "execution_count": null,
   "metadata": {},
   "outputs": [],
   "source": [
    "from rayuela.base.semiring import Boolean, Real, Tropical, String, product_semiring_builder\n",
    "from rayuela.base.symbol import Sym, ε\n",
    "from rayuela.fsa.fsa import FSA\n",
    "from rayuela.fsa.fst import FST\n",
    "from rayuela.fsa.state import State\n",
    "from rayuela.fsa.transformer import Transformer"
   ]
  },
  {
   "cell_type": "code",
   "execution_count": null,
   "metadata": {},
   "outputs": [],
   "source": [
    "%load_ext autoreload\n",
    "%autoreload 2"
   ]
  },
  {
   "cell_type": "markdown",
   "metadata": {},
   "source": [
    "## Example 1"
   ]
  },
  {
   "cell_type": "markdown",
   "metadata": {},
   "source": [
    "Using the product semiring"
   ]
  },
  {
   "cell_type": "code",
   "execution_count": null,
   "metadata": {},
   "outputs": [],
   "source": [
    "# We define a new product semiring class with the helper builder function\n",
    "StringReal = product_semiring_builder(String, Real)\n",
    "\n",
    "# The values of the defined product semiring are pairs of values of the \n",
    "# semirings inside\n",
    "funny = StringReal(String('funny'), Real(12.0))\n",
    "funnier = StringReal(String('funicular'), Real(3.0))\n",
    "\n",
    "print(funny + funnier)\n",
    "print(funny * funnier)"
   ]
  },
  {
   "cell_type": "markdown",
   "metadata": {},
   "source": [
    "### Encoding a Transducer as an Acceptor"
   ]
  },
  {
   "cell_type": "code",
   "execution_count": null,
   "metadata": {},
   "outputs": [],
   "source": [
    "# We encode the transducer as an acceptor over the product of the \n",
    "# string (output words) and real (weights) semirings\n",
    "StringReal = product_semiring_builder(String, Real)\n",
    "\n",
    "fst = FSA(StringReal)\n",
    "\n",
    "# The added arc has the form\n",
    "# (source, input_symbol, target, (output_symbol, weight))\n",
    "fst.add_arc(State(0), Sym('a'), State(1), StringReal(String('x'), Real(0.23)))\n",
    "fst.add_arc(State(0), Sym('a'), State(3), StringReal(String('zz'), Real(0.42)))\n",
    "\n",
    "fst.add_arc(State(1), Sym('c'), State(1), StringReal(String('w'), Real(0.46)))\n",
    "fst.add_arc(State(1), Sym('b'), State(1), StringReal(String('x'), Real(0.33)))\n",
    "fst.add_arc(State(1), Sym('d'), State(2), StringReal(String('xw'), Real(0.46)))\n",
    "\n",
    "fst.add_arc(State(2), Sym('c'), State(1), StringReal(String('yy'), Real(0.46)))\n",
    "fst.add_arc(State(2), Sym('a'), State(3), StringReal(String('x'), Real(0.46)))\n",
    "\n",
    "# We use the string multiplicative unit for weighting the inital and final states\n",
    "fst.set_I(State(0), StringReal(String(''), Real(0.92)))\n",
    "fst.set_F(State(3), StringReal(String(''), Real(0.1)))\n",
    "\n",
    "fst"
   ]
  },
  {
   "cell_type": "markdown",
   "metadata": {},
   "source": [
    "A simple language model encoded by a FSA"
   ]
  },
  {
   "cell_type": "code",
   "execution_count": null,
   "metadata": {},
   "outputs": [],
   "source": [
    "fsa = FSA(Real)\n",
    "\n",
    "fsa.add_arc(State(0), Sym('formal'), State(1), Real(0.2))\n",
    "fsa.add_arc(State(0), Sym('natural'), State(1), Real(0.3))\n",
    "fsa.add_arc(State(0), Sym('learning'), State(2), Real(0.2))\n",
    "fsa.add_arc(State(0), Sym('data'), State(3), Real(0.3))\n",
    "\n",
    "fsa.add_arc(State(1), Sym('language'), State(2), Real(0.6))\n",
    "fsa.add_arc(State(1), Sym('languages'), State(4), Real(0.4))\n",
    "\n",
    "fsa.add_arc(State(2), Sym('is'), State(5), Real(1.0))\n",
    "\n",
    "fsa.add_arc(State(5), Sym('fun'), State(6), Real(1.0))\n",
    "\n",
    "fsa.add_arc(State(3), Sym('is'), State(5), Real(0.5))\n",
    "fsa.add_arc(State(3), Sym('are'), State(5), Real(0.5))\n",
    "\n",
    "fsa.add_arc(State(4), Sym('are'), State(5), Real(1.0))\n",
    "\n",
    "fsa.set_I(State(0))\n",
    "fsa.set_F(State(6))\n",
    "\n",
    "fsa"
   ]
  },
  {
   "cell_type": "markdown",
   "metadata": {},
   "source": [
    "The WFSA from above encoded as a WFST"
   ]
  },
  {
   "cell_type": "code",
   "execution_count": null,
   "metadata": {},
   "outputs": [],
   "source": [
    "StringReal = product_semiring_builder(String, Real)\n",
    "\n",
    "fst = FSA(StringReal)\n",
    "\n",
    "fst.add_arc(State(0), Sym('formal'), State(1), StringReal(String('formal'), Real(0.2)))\n",
    "fst.add_arc(State(0), Sym('natural'), State(1), StringReal(String('natural'), Real(0.3)))\n",
    "fst.add_arc(State(0), Sym('learning'), State(2), StringReal(String('learning'), Real(0.2)))\n",
    "fst.add_arc(State(0), Sym('data'), State(3), StringReal(String('data'), Real(0.3)))\n",
    "\n",
    "fst.add_arc(State(1), Sym('language'), State(2), StringReal(String('language'), Real(0.6)))\n",
    "fst.add_arc(State(1), Sym('languages'), State(4), StringReal(String('languages'), Real(0.4)))\n",
    "\n",
    "fst.add_arc(State(2), Sym('is'), State(5), StringReal(String('is'), Real(1.0)))\n",
    "\n",
    "fst.add_arc(State(5), Sym('fun'), State(6), StringReal(String('fun'), Real(1.0)))\n",
    "\n",
    "fst.add_arc(State(3), Sym('is'), State(5), StringReal(String('is'), Real(0.5)))\n",
    "fst.add_arc(State(3), Sym('are'), State(5), StringReal(String('are'), Real(0.5)))\n",
    "\n",
    "fst.add_arc(State(4), Sym('are'), State(5), StringReal(String('are'), Real(1.0)))\n",
    "\n",
    "fst.set_I(State(0))\n",
    "fst.set_F(State(6))\n",
    "\n",
    "fst"
   ]
  },
  {
   "cell_type": "code",
   "execution_count": null,
   "metadata": {},
   "outputs": [],
   "source": [
    "StringReal = product_semiring_builder(String, Real)\n",
    "\n",
    "fst = FSA(StringReal)\n",
    "\n",
    "fst.add_arc(State(0), Sym('learning'), State(2), StringReal(String('learning'), Real(0.2)))\n",
    "fst.add_arc(State(0), Sym('leaning'), State(2), StringReal(String('leaning'), Real(0.2)))\n",
    "\n",
    "fst.add_arc(State(2), Sym('is'), State(5), StringReal(String('is'), Real(1.0)))\n",
    "fst.add_arc(State(2), Sym('are'), State(5), StringReal(String('are'), Real(1.0)))\n",
    "\n",
    "fst.add_arc(State(5), Sym('fun'), State(6), StringReal(String('fun'), Real(1.0)))\n",
    "\n",
    "fst.set_I(State(0))\n",
    "fst.set_F(State(6))\n",
    "\n",
    "fst"
   ]
  },
  {
   "cell_type": "markdown",
   "metadata": {},
   "source": [
    "A WFSA for _transliteration_"
   ]
  },
  {
   "cell_type": "code",
   "execution_count": null,
   "metadata": {},
   "outputs": [],
   "source": [
    "StringReal = product_semiring_builder(String, Real)\n",
    "\n",
    "fst = FSA(StringReal)\n",
    "\n",
    "fst.add_arc(State(0), Sym('d'), State(1), StringReal(String('data'), Real(0.5)))\n",
    "fst.add_arc(State(0), Sym('d'), State(5), StringReal(String('dew'), Real(0.5)))\n",
    "\n",
    "fst.add_arc(State(1), Sym('ey'), State(2), StringReal(String('ε'), Real(0.5)))\n",
    "fst.add_arc(State(1), Sym('ae'), State(2), StringReal(String('ε'), Real(0.5)))\n",
    "\n",
    "fst.add_arc(State(2), Sym('t'), State(3), StringReal(String('ε'), Real(0.7)))\n",
    "fst.add_arc(State(2), Sym('dx'), State(3), StringReal(String('ε'), Real(0.3)))\n",
    "\n",
    "fst.add_arc(State(3), Sym('ax'), State(4), StringReal(String('ε'), Real(1.0)))\n",
    "\n",
    "fst.add_arc(State(5), Sym('uw'), State(6), StringReal(String('ε'), Real(1.0)))\n",
    "\n",
    "fst.set_I(State(0))\n",
    "fst.set_F(State(4))\n",
    "fst.set_F(State(6))\n",
    "\n",
    "fst"
   ]
  },
  {
   "cell_type": "markdown",
   "metadata": {},
   "source": [
    "### Using the FST class directly"
   ]
  },
  {
   "cell_type": "code",
   "execution_count": null,
   "metadata": {},
   "outputs": [],
   "source": [
    "# Initilize directly with the semiring we want\n",
    "fst = FST(Real)\n",
    "\n",
    "# We add *two* symbols per arc and the weight directly in the semiring itself\n",
    "fst.add_arc(State(0), Sym('d'), Sym('data'), State(1), Real(0.5))\n",
    "fst.add_arc(State(0), Sym('d'), Sym('dew'), State(5), Real(0.5))\n",
    "\n",
    "fst.add_arc(State(1), Sym('ey'), Sym('ε'), State(2), Real(0.5))\n",
    "fst.add_arc(State(1), Sym('ae'), Sym('ε'), State(2), Real(0.5))\n",
    "\n",
    "fst.add_arc(State(2), Sym('t'), Sym('ε'), State(3), Real(0.7))\n",
    "fst.add_arc(State(2), Sym('dx'), Sym('ε'), State(3), Real(0.3))\n",
    "\n",
    "fst.add_arc(State(3), Sym('ax'), Sym('ε'), State(4), Real(1.0))\n",
    "\n",
    "fst.add_arc(State(5), Sym('uw'), Sym('ε'), State(6), Real(1.0))\n",
    "\n",
    "fst.set_I(State(0))\n",
    "fst.set_F(State(4))\n",
    "fst.set_F(State(6))\n",
    "\n",
    "fst"
   ]
  },
  {
   "cell_type": "code",
   "execution_count": null,
   "metadata": {},
   "outputs": [],
   "source": [
    "for ab, j, w in fst.arcs(State(0)):\n",
    "    print(ab)"
   ]
  },
  {
   "cell_type": "markdown",
   "metadata": {},
   "source": [
    "### Composition"
   ]
  },
  {
   "cell_type": "code",
   "execution_count": null,
   "metadata": {
    "scrolled": true
   },
   "outputs": [],
   "source": [
    "# Mohri(1997), Fig. 2\n",
    "fst1 = FST(Boolean)\n",
    "one = Boolean.one\n",
    "\n",
    "fst1.add_arc(State(0), Sym('a'), Sym('a'), State(1), one)\n",
    "fst1.add_arc(State(0), Sym('b'), Sym('a'), State(2), one)\n",
    "fst1.add_arc(State(1), Sym('a'), Sym('a'), State(3), one)\n",
    "fst1.add_arc(State(2), Sym('b'), Sym('b'), State(3), one)\n",
    "\n",
    "fst1.set_I(State(0))\n",
    "fst1.set_F(State(3))\n",
    "\n",
    "fst1"
   ]
  },
  {
   "cell_type": "code",
   "execution_count": null,
   "metadata": {},
   "outputs": [],
   "source": [
    "fst2 = FST(Boolean)\n",
    "one = Boolean.one\n",
    "\n",
    "fst2.add_arc(State(0), Sym('a'), Sym('b'), State(1), one)\n",
    "fst2.add_arc(State(1), Sym('a'), Sym('b'), State(2), one)\n",
    "fst2.add_arc(State(1), Sym('b'), Sym('a'), State(2), one)\n",
    "\n",
    "fst2.set_I(State(0))\n",
    "fst2.set_F(State(2))\n",
    "\n",
    "fst2"
   ]
  },
  {
   "cell_type": "code",
   "execution_count": null,
   "metadata": {
    "scrolled": false
   },
   "outputs": [],
   "source": [
    "# naïve composition\n",
    "comp1 = fst.top_compose_brute(fst2)\n",
    "comp1"
   ]
  },
  {
   "cell_type": "code",
   "execution_count": null,
   "metadata": {},
   "outputs": [],
   "source": [
    "# on-the-fly composition\n",
    "comp2 = fst.top_compose(fst2)\n",
    "comp2"
   ]
  },
  {
   "cell_type": "markdown",
   "metadata": {},
   "source": [
    "## Example 2: Epsilon Removal\n"
   ]
  },
  {
   "cell_type": "code",
   "execution_count": null,
   "metadata": {},
   "outputs": [],
   "source": [
    "fsa = FSA(Real)\n",
    "\n",
    "fsa.add_arc(State(0), Sym('a'), State(1), Real(0.1))\n",
    "fsa.add_arc(State(1), ε, State(2), Real(0.2))\n",
    "fsa.add_arc(State(0), Sym('a'), State(2), Real(0.3))\n",
    "\n",
    "fsa.add_I(State(0), Real(0.5))\n",
    "fsa.add_F(State(2), Real(0.8))\n",
    "\n",
    "fsa"
   ]
  },
  {
   "cell_type": "code",
   "execution_count": null,
   "metadata": {},
   "outputs": [],
   "source": [
    "Transformer.epsremoval(fsa)"
   ]
  },
  {
   "cell_type": "markdown",
   "metadata": {},
   "source": [
    "## Example 3: Determinization"
   ]
  },
  {
   "cell_type": "markdown",
   "metadata": {},
   "source": [
    "Determinization of an unweighted finite state automaton."
   ]
  },
  {
   "cell_type": "code",
   "execution_count": null,
   "metadata": {},
   "outputs": [],
   "source": [
    "# We can define an unweighted FSA with a WFSA over the boolean semiring\n",
    "fsa = FSA(Boolean)\n",
    "\n",
    "fsa.add_arc(State(0), Sym('a'), State(0), Boolean(True))\n",
    "fsa.add_arc(State(0), Sym('a'), State(1), Boolean(True))\n",
    "fsa.add_arc(State(0), Sym('a'), State(2), Boolean(True))\n",
    "fsa.add_arc(State(0), Sym('b'), State(2), Boolean(True))\n",
    "fsa.add_arc(State(0), Sym('b'), State(3), Boolean(True))\n",
    "\n",
    "fsa.add_arc(State(2), Sym('a'), State(1), Boolean(True))\n",
    "fsa.add_arc(State(2), Sym('b'), State(3), Boolean(True))\n",
    "\n",
    "fsa.add_arc(State(1), Sym('b'), State(1), Boolean(True))\n",
    "fsa.add_arc(State(1), Sym('b'), State(3), Boolean(True))\n",
    "\n",
    "fsa.set_I(State(0))\n",
    "fsa.set_I(State(1))\n",
    "fsa.set_F(State(3))\n",
    "\n",
    "fsa"
   ]
  },
  {
   "cell_type": "code",
   "execution_count": null,
   "metadata": {},
   "outputs": [],
   "source": [
    "Transformer.determinize(fsa)"
   ]
  },
  {
   "cell_type": "markdown",
   "metadata": {},
   "source": [
    "## Example 4: Weighted Determinization"
   ]
  },
  {
   "cell_type": "markdown",
   "metadata": {},
   "source": [
    "Weighted determinization of a weighted finite state automaton."
   ]
  },
  {
   "cell_type": "code",
   "execution_count": null,
   "metadata": {},
   "outputs": [],
   "source": [
    "fsa = FSA(Tropical)\n",
    "\n",
    "fsa.add_arc(State(0), Sym('a'), State(1), Tropical(1))\n",
    "fsa.add_arc(State(0), Sym('a'), State(2), Tropical(2))\n",
    "\n",
    "fsa.add_arc(State(1), Sym('b'), State(1), Tropical(3))\n",
    "fsa.add_arc(State(1), Sym('c'), State(3), Tropical(5))\n",
    "\n",
    "fsa.add_arc(State(2), Sym('b'), State(2), Tropical(3))\n",
    "fsa.add_arc(State(2), Sym('d'), State(3), Tropical(6))\n",
    "\n",
    "fsa.set_I(State(0))\n",
    "fsa.set_F(State(3))\n",
    "\n",
    "fsa"
   ]
  },
  {
   "cell_type": "markdown",
   "metadata": {},
   "source": [
    "Determinize the automaton above.\n",
    "\n",
    "The `Transformer` class in `rayuela` contains many transfromation operations on a single WFSA, including determinization."
   ]
  },
  {
   "cell_type": "code",
   "execution_count": null,
   "metadata": {},
   "outputs": [],
   "source": [
    "Transformer.determinize(fsa)"
   ]
  },
  {
   "cell_type": "markdown",
   "metadata": {},
   "source": [
    "## Example 5: The Twins Property"
   ]
  },
  {
   "cell_type": "markdown",
   "metadata": {},
   "source": [
    "The twins property"
   ]
  },
  {
   "cell_type": "markdown",
   "metadata": {},
   "source": [
    "A non-subsequential weighted finite state automaton."
   ]
  },
  {
   "cell_type": "code",
   "execution_count": null,
   "metadata": {},
   "outputs": [],
   "source": [
    "fsa = FSA(Tropical)\n",
    "\n",
    "fsa.add_arc(State(0), Sym('a'), State(1), Tropical(1))\n",
    "fsa.add_arc(State(0), Sym('a'), State(2), Tropical(2))\n",
    "\n",
    "fsa.add_arc(State(1), Sym('b'), State(1), Tropical(3))\n",
    "fsa.add_arc(State(1), Sym('c'), State(3), Tropical(5))\n",
    "\n",
    "fsa.add_arc(State(2), Sym('b'), State(2), Tropical(4))\n",
    "fsa.add_arc(State(2), Sym('d'), State(3), Tropical(6))\n",
    "\n",
    "fsa.set_I(State(0))\n",
    "fsa.set_F(State(3))\n",
    "\n",
    "fsa"
   ]
  },
  {
   "cell_type": "code",
   "execution_count": null,
   "metadata": {},
   "outputs": [],
   "source": [
    "Transformer.twins(fsa)"
   ]
  },
  {
   "cell_type": "code",
   "execution_count": null,
   "metadata": {},
   "outputs": [],
   "source": [
    "fsa = FSA(Tropical)\n",
    "\n",
    "fsa.add_arc(State(0), Sym('a'), State(1), Tropical(1))\n",
    "fsa.add_arc(State(0), Sym('a'), State(2), Tropical(2))\n",
    "\n",
    "fsa.add_arc(State(1), Sym('b'), State(1), Tropical(3))\n",
    "fsa.add_arc(State(1), Sym('c'), State(3), Tropical(5))\n",
    "\n",
    "fsa.add_arc(State(2), Sym('b'), State(2), Tropical(3))\n",
    "fsa.add_arc(State(2), Sym('d'), State(3), Tropical(6))\n",
    "\n",
    "fsa.set_I(State(0))\n",
    "fsa.set_F(State(3))\n",
    "\n",
    "fsa"
   ]
  },
  {
   "cell_type": "code",
   "execution_count": null,
   "metadata": {},
   "outputs": [],
   "source": [
    "Transformer.twins(fsa)"
   ]
  },
  {
   "cell_type": "code",
   "execution_count": null,
   "metadata": {},
   "outputs": [],
   "source": []
  }
 ],
 "metadata": {
  "kernelspec": {
   "display_name": "rayuela",
   "language": "python",
   "name": "python3"
  },
  "language_info": {
   "codemirror_mode": {
    "name": "ipython",
    "version": 3
   },
   "file_extension": ".py",
   "mimetype": "text/x-python",
   "name": "python",
   "nbconvert_exporter": "python",
   "pygments_lexer": "ipython3",
   "version": "3.10.9"
  },
  "vscode": {
   "interpreter": {
    "hash": "a6fe8fb0d2f34273f26edd12c77b360f83aa5fb290def9374d058e2d145f3b3a"
   }
  }
 },
 "nbformat": 4,
 "nbformat_minor": 4
}

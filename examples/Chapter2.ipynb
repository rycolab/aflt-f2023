{
 "cells": [
  {
   "cell_type": "markdown",
   "metadata": {},
   "source": [
    "### Imports"
   ]
  },
  {
   "cell_type": "code",
   "execution_count": null,
   "metadata": {},
   "outputs": [],
   "source": [
    "from pprint import pprint\n",
    "\n",
    "import numpy as np"
   ]
  },
  {
   "cell_type": "code",
   "execution_count": null,
   "metadata": {},
   "outputs": [],
   "source": [
    "from rayuela.base.semiring import Boolean, Real, Tropical\n",
    "from rayuela.base.symbol import Sym, ε\n",
    "from rayuela.fsa.fsa import FSA\n",
    "from rayuela.fsa.state import State\n",
    "from rayuela.fsa.pathsum import Pathsum, Strategy"
   ]
  },
  {
   "cell_type": "markdown",
   "metadata": {},
   "source": [
    "## Example 1"
   ]
  },
  {
   "cell_type": "code",
   "execution_count": null,
   "metadata": {},
   "outputs": [],
   "source": [
    "fsa = FSA(R=Boolean)\n",
    "\n",
    "fsa.add_arc(State(3), Sym('a'), State(6))\n",
    "fsa.add_arc(State(3), Sym('b'), State(1))\n",
    "\n",
    "fsa.add_arc(State(6), Sym('c'), State(5))\n",
    "\n",
    "fsa.add_arc(State(1), Sym('c'), State(5))\n",
    "fsa.add_arc(State(1), Sym('b'), State(4))\n",
    "\n",
    "fsa.add_arc(State(4), Sym('a'), State(2))\n",
    "\n",
    "fsa.add_arc(State(5), Sym('a'), State(2))\n",
    "\n",
    "fsa.set_I(State(3))\n",
    "fsa.set_F(State(2))\n",
    "\n",
    "fsa"
   ]
  },
  {
   "cell_type": "code",
   "execution_count": null,
   "metadata": {},
   "outputs": [],
   "source": [
    "list(fsa.toposort())"
   ]
  },
  {
   "cell_type": "markdown",
   "metadata": {},
   "source": [
    "## Example 2"
   ]
  },
  {
   "cell_type": "markdown",
   "metadata": {},
   "source": [
    "Backward with all the intermediate β values"
   ]
  },
  {
   "cell_type": "code",
   "execution_count": null,
   "metadata": {},
   "outputs": [],
   "source": [
    "fsa = FSA(R=Real)\n",
    "\n",
    "fsa.add_arc(State(2), Sym('a'), State(8), Real(1))\n",
    "\n",
    "fsa.add_arc(State(3), Sym('a'), State(6), Real(1))\n",
    "fsa.add_arc(State(3), Sym('b'), State(1), Real(7))\n",
    "\n",
    "fsa.add_arc(State(6), Sym('c'), State(5), Real(4))\n",
    "\n",
    "fsa.add_arc(State(1), Sym('c'), State(5), Real(3))\n",
    "fsa.add_arc(State(1), Sym('b'), State(4), Real(1))\n",
    "\n",
    "fsa.add_arc(State(4), Sym('a'), State(2), Real(5))\n",
    "\n",
    "fsa.add_arc(State(5), Sym('a'), State(2), Real(3))\n",
    "fsa.add_arc(State(5), Sym('a'), State(7), Real(8))\n",
    "\n",
    "fsa.add_arc(State(6), Sym('a'), State(7), Real(7))\n",
    "\n",
    "fsa.add_arc(State(7), Sym('a'), State(8), Real(2))\n",
    "\n",
    "fsa.set_I(State(3), Real(3))\n",
    "fsa.set_F(State(2), Real(4))\n",
    "fsa.set_F(State(7), Real(2))\n",
    "\n",
    "fsa"
   ]
  },
  {
   "cell_type": "code",
   "execution_count": null,
   "metadata": {},
   "outputs": [],
   "source": [
    "pprint(Pathsum(fsa).backward(strategy=Strategy.VITERBI))"
   ]
  },
  {
   "cell_type": "code",
   "execution_count": null,
   "metadata": {},
   "outputs": [],
   "source": [
    "pprint(Pathsum(fsa).pathsum(strategy=Strategy.VITERBI))"
   ]
  },
  {
   "cell_type": "markdown",
   "metadata": {},
   "source": [
    "## Example 3"
   ]
  },
  {
   "cell_type": "markdown",
   "metadata": {},
   "source": [
    "Matrix closure by fixed point"
   ]
  },
  {
   "cell_type": "markdown",
   "metadata": {},
   "source": [
    "We can compute $\\left( I - M\\right)^{-1}$ using the fixed point algorithm ran until numerical convergence."
   ]
  },
  {
   "cell_type": "code",
   "execution_count": null,
   "metadata": {},
   "outputs": [],
   "source": [
    "D = 5\n",
    "\n",
    "M = np.random.rand(D, D) / D  # ensure entries are smaller than 1 / D\n",
    "M"
   ]
  },
  {
   "cell_type": "code",
   "execution_count": null,
   "metadata": {},
   "outputs": [],
   "source": [
    "R = np.zeros_like(M)\n",
    "for i in range(200):\n",
    "    R = (np.eye(D, D) + R) @ M\n",
    "np.eye(D, D) + R"
   ]
  },
  {
   "cell_type": "code",
   "execution_count": null,
   "metadata": {},
   "outputs": [],
   "source": [
    "np.linalg.inv(np.eye(D, D) - M)"
   ]
  },
  {
   "cell_type": "markdown",
   "metadata": {},
   "source": [
    "Matrix power in logarithmic number of multiplications"
   ]
  },
  {
   "cell_type": "code",
   "execution_count": null,
   "metadata": {},
   "outputs": [],
   "source": [
    "M = np.random.rand(D, D)"
   ]
  },
  {
   "cell_type": "code",
   "execution_count": null,
   "metadata": {},
   "outputs": [],
   "source": [
    "m = 13\n",
    "# 13 = 8 + 4 + 1 = 2^3 + 2^2 + 2^0"
   ]
  },
  {
   "cell_type": "code",
   "execution_count": null,
   "metadata": {},
   "outputs": [],
   "source": [
    "Ms = [M]\n",
    "for r in range(1, 4):\n",
    "    Ms.append(Ms[-1] @ Ms[-1])"
   ]
  },
  {
   "cell_type": "code",
   "execution_count": null,
   "metadata": {},
   "outputs": [],
   "source": [
    "Ms[0] @ Ms[2] @ Ms[3]"
   ]
  },
  {
   "cell_type": "code",
   "execution_count": null,
   "metadata": {},
   "outputs": [],
   "source": [
    "np.linalg.matrix_power(M, 13)"
   ]
  },
  {
   "cell_type": "markdown",
   "metadata": {},
   "source": [
    "### Graph closure by WFK"
   ]
  },
  {
   "cell_type": "markdown",
   "metadata": {},
   "source": [
    "The closure of the graph answers the question whether there is a path between pairs of nodes for each possible pair"
   ]
  },
  {
   "cell_type": "markdown",
   "metadata": {},
   "source": [
    "#### Acyclic"
   ]
  },
  {
   "cell_type": "code",
   "execution_count": null,
   "metadata": {},
   "outputs": [],
   "source": [
    "fsa = FSA(R=Boolean)\n",
    "\n",
    "fsa.add_arc(State(2), Sym('a'), State(8))\n",
    "\n",
    "fsa.add_arc(State(3), Sym('c'), State(5))\n",
    "fsa.add_arc(State(3), Sym('a'), State(7))\n",
    "\n",
    "fsa.add_arc(State(5), Sym('a'), State(2))\n",
    "fsa.add_arc(State(5), Sym('a'), State(7))\n",
    "\n",
    "fsa.set_I(State(3))\n",
    "fsa.set_F(State(2))\n",
    "fsa.set_F(State(7))\n",
    "\n",
    "fsa"
   ]
  },
  {
   "cell_type": "code",
   "execution_count": null,
   "metadata": {},
   "outputs": [],
   "source": [
    "pprint(Pathsum(fsa).lehmann())"
   ]
  },
  {
   "cell_type": "markdown",
   "metadata": {},
   "source": [
    "#### A self-loop"
   ]
  },
  {
   "cell_type": "code",
   "execution_count": null,
   "metadata": {},
   "outputs": [],
   "source": [
    "fsa = FSA(R=Boolean)\n",
    "\n",
    "fsa.add_arc(State(2), Sym('a'), State(8))\n",
    "\n",
    "fsa.add_arc(State(3), Sym('c'), State(5))\n",
    "fsa.add_arc(State(3), Sym('a'), State(7))\n",
    "\n",
    "fsa.add_arc(State(5), Sym('a'), State(2))\n",
    "fsa.add_arc(State(5), Sym('a'), State(5))\n",
    "fsa.add_arc(State(5), Sym('a'), State(7))\n",
    "\n",
    "fsa.set_I(State(3))\n",
    "fsa.set_F(State(2))\n",
    "fsa.set_F(State(7))\n",
    "\n",
    "fsa"
   ]
  },
  {
   "cell_type": "code",
   "execution_count": null,
   "metadata": {},
   "outputs": [],
   "source": [
    "pprint(Pathsum(fsa).lehmann())"
   ]
  },
  {
   "cell_type": "markdown",
   "metadata": {},
   "source": [
    "#### A cycle"
   ]
  },
  {
   "cell_type": "code",
   "execution_count": null,
   "metadata": {},
   "outputs": [],
   "source": [
    "fsa = FSA(R=Boolean)\n",
    "\n",
    "fsa.add_arc(State(2), Sym('a'), State(8))\n",
    "\n",
    "fsa.add_arc(State(3), Sym('c'), State(5))\n",
    "fsa.add_arc(State(3), Sym('a'), State(7))\n",
    "\n",
    "fsa.add_arc(State(5), Sym('a'), State(2))\n",
    "\n",
    "fsa.add_arc(State(7), Sym('a'), State(5))\n",
    "\n",
    "fsa.add_arc(State(8), Sym('a'), State(7))\n",
    "\n",
    "fsa.set_I(State(3))\n",
    "fsa.set_F(State(2))\n",
    "fsa.set_F(State(7))\n",
    "\n",
    "fsa"
   ]
  },
  {
   "cell_type": "code",
   "execution_count": null,
   "metadata": {},
   "outputs": [],
   "source": [
    "pprint(Pathsum(fsa).lehmann())"
   ]
  },
  {
   "cell_type": "markdown",
   "metadata": {},
   "source": [
    "The entire matrix also shows which nodes are definitely *not* in the same strongly connected component"
   ]
  },
  {
   "cell_type": "markdown",
   "metadata": {},
   "source": [
    "### Pathsum by Lehmann"
   ]
  },
  {
   "cell_type": "markdown",
   "metadata": {},
   "source": [
    "#### Acyclic"
   ]
  },
  {
   "cell_type": "code",
   "execution_count": null,
   "metadata": {},
   "outputs": [],
   "source": [
    "fsa = FSA(R=Real)\n",
    "\n",
    "fsa.add_arc(State(2), Sym('a'), State(8), Real(0.1))\n",
    "\n",
    "fsa.add_arc(State(3), Sym('c'), State(5), Real(0.4))\n",
    "fsa.add_arc(State(3), Sym('a'), State(7), Real(0.7))\n",
    "\n",
    "fsa.add_arc(State(5), Sym('a'), State(2), Real(0.3))\n",
    "fsa.add_arc(State(5), Sym('a'), State(7), Real(0.8))\n",
    "\n",
    "fsa.set_I(State(3), Real(0.3))\n",
    "fsa.set_F(State(2), Real(0.4))\n",
    "fsa.set_F(State(7), Real(0.2))\n",
    "\n",
    "fsa"
   ]
  },
  {
   "cell_type": "code",
   "execution_count": null,
   "metadata": {},
   "outputs": [],
   "source": [
    "pprint(Pathsum(fsa).lehmann())"
   ]
  },
  {
   "cell_type": "code",
   "execution_count": null,
   "metadata": {},
   "outputs": [],
   "source": [
    "pprint(Pathsum(fsa).pathsum(strategy=Strategy.LEHMANN))"
   ]
  },
  {
   "cell_type": "markdown",
   "metadata": {},
   "source": [
    "#### A self-loop"
   ]
  },
  {
   "cell_type": "code",
   "execution_count": null,
   "metadata": {},
   "outputs": [],
   "source": [
    "fsa = FSA(R=Real)\n",
    "\n",
    "fsa.add_arc(State(2), Sym('a'), State(8), Real(0.1))\n",
    "\n",
    "fsa.add_arc(State(3), Sym('c'), State(5), Real(0.4))\n",
    "fsa.add_arc(State(3), Sym('a'), State(7), Real(0.7))\n",
    "\n",
    "fsa.add_arc(State(5), Sym('a'), State(2), Real(0.3))\n",
    "fsa.add_arc(State(5), Sym('a'), State(5), Real(0.9))\n",
    "fsa.add_arc(State(5), Sym('a'), State(7), Real(0.8))\n",
    "\n",
    "fsa.set_I(State(3), Real(0.3))\n",
    "fsa.set_F(State(2), Real(0.4))\n",
    "fsa.set_F(State(7), Real(0.2))\n",
    "\n",
    "fsa"
   ]
  },
  {
   "cell_type": "code",
   "execution_count": null,
   "metadata": {},
   "outputs": [],
   "source": [
    "pprint(Pathsum(fsa).lehmann())"
   ]
  },
  {
   "cell_type": "code",
   "execution_count": null,
   "metadata": {},
   "outputs": [],
   "source": [
    "pprint(Pathsum(fsa).pathsum(strategy=Strategy.LEHMANN))"
   ]
  },
  {
   "cell_type": "markdown",
   "metadata": {},
   "source": [
    "#### A cycle"
   ]
  },
  {
   "cell_type": "code",
   "execution_count": null,
   "metadata": {},
   "outputs": [],
   "source": [
    "fsa = FSA(R=Real)\n",
    "\n",
    "fsa.add_arc(State(2), Sym('a'), State(8), Real(0.1))\n",
    "\n",
    "fsa.add_arc(State(3), Sym('c'), State(5), Real(0.4))\n",
    "fsa.add_arc(State(3), Sym('a'), State(7), Real(0.7))\n",
    "\n",
    "fsa.add_arc(State(5), Sym('a'), State(2), Real(0.3))\n",
    "\n",
    "fsa.add_arc(State(7), Sym('a'), State(5), Real(0.3))\n",
    "\n",
    "fsa.add_arc(State(8), Sym('a'), State(7), Real(0.3))\n",
    "\n",
    "fsa.set_I(State(3), Real(0.3))\n",
    "fsa.set_F(State(2), Real(0.4))\n",
    "fsa.set_F(State(7), Real(0.2))\n",
    "\n",
    "fsa"
   ]
  },
  {
   "cell_type": "code",
   "execution_count": null,
   "metadata": {},
   "outputs": [],
   "source": [
    "pprint(Pathsum(fsa).lehmann())"
   ]
  },
  {
   "cell_type": "code",
   "execution_count": null,
   "metadata": {},
   "outputs": [],
   "source": [
    "pprint(Pathsum(fsa).pathsum(strategy=Strategy.LEHMANN))"
   ]
  },
  {
   "cell_type": "markdown",
   "metadata": {},
   "source": [
    "### Shortest paths by Lehmann (Floyd-Warshall)"
   ]
  },
  {
   "cell_type": "markdown",
   "metadata": {},
   "source": [
    "#### Acyclic"
   ]
  },
  {
   "cell_type": "code",
   "execution_count": null,
   "metadata": {},
   "outputs": [],
   "source": [
    "fsa = FSA(R=Tropical)\n",
    "\n",
    "fsa.add_arc(State(2), Sym('a'), State(8), Tropical(1))\n",
    "\n",
    "fsa.add_arc(State(3), Sym('c'), State(5), Tropical(4))\n",
    "fsa.add_arc(State(3), Sym('a'), State(7), Tropical(7))\n",
    "\n",
    "fsa.add_arc(State(5), Sym('a'), State(2), Tropical(3))\n",
    "fsa.add_arc(State(5), Sym('a'), State(7), Tropical(8))\n",
    "\n",
    "fsa.set_I(State(3), Tropical(3))\n",
    "fsa.set_F(State(2), Tropical(4))\n",
    "fsa.set_F(State(7), Tropical(2))\n",
    "\n",
    "fsa"
   ]
  },
  {
   "cell_type": "code",
   "execution_count": null,
   "metadata": {},
   "outputs": [],
   "source": [
    "pprint(Pathsum(fsa).pathsum(strategy=Strategy.VITERBI))"
   ]
  },
  {
   "cell_type": "code",
   "execution_count": null,
   "metadata": {},
   "outputs": [],
   "source": [
    "pprint(Pathsum(fsa).pathsum(strategy=Strategy.LEHMANN))"
   ]
  },
  {
   "cell_type": "code",
   "execution_count": null,
   "metadata": {},
   "outputs": [],
   "source": [
    "pprint(Pathsum(fsa).lehmann())"
   ]
  },
  {
   "cell_type": "markdown",
   "metadata": {},
   "source": [
    "#### A self-loop"
   ]
  },
  {
   "cell_type": "code",
   "execution_count": null,
   "metadata": {},
   "outputs": [],
   "source": [
    "fsa = FSA(R=Tropical)\n",
    "\n",
    "fsa.add_arc(State(2), Sym('a'), State(8), Tropical(1))\n",
    "\n",
    "fsa.add_arc(State(3), Sym('c'), State(5), Tropical(4))\n",
    "fsa.add_arc(State(3), Sym('a'), State(7), Tropical(7))\n",
    "\n",
    "fsa.add_arc(State(5), Sym('a'), State(2), Tropical(3))\n",
    "fsa.add_arc(State(5), Sym('a'), State(5), Tropical(9))\n",
    "fsa.add_arc(State(5), Sym('a'), State(7), Tropical(8))\n",
    "\n",
    "fsa.set_I(State(3), Tropical(3))\n",
    "fsa.set_F(State(2), Tropical(4))\n",
    "fsa.set_F(State(7), Tropical(2))\n",
    "\n",
    "fsa"
   ]
  },
  {
   "cell_type": "code",
   "execution_count": null,
   "metadata": {},
   "outputs": [],
   "source": [
    "pprint(Pathsum(fsa).lehmann())"
   ]
  },
  {
   "cell_type": "code",
   "execution_count": null,
   "metadata": {},
   "outputs": [],
   "source": [
    "pprint(Pathsum(fsa).pathsum(strategy=Strategy.LEHMANN))"
   ]
  },
  {
   "cell_type": "markdown",
   "metadata": {},
   "source": [
    "We see that since the Tropical semiring is 0-closed, the self loop does not affect the pathsum"
   ]
  },
  {
   "cell_type": "markdown",
   "metadata": {},
   "source": [
    "#### A Cycle"
   ]
  },
  {
   "cell_type": "code",
   "execution_count": null,
   "metadata": {},
   "outputs": [],
   "source": [
    "fsa = FSA(R=Tropical)\n",
    "\n",
    "fsa.add_arc(State(2), Sym('a'), State(8), Tropical(1))\n",
    "\n",
    "fsa.add_arc(State(3), Sym('c'), State(5), Tropical(4))\n",
    "fsa.add_arc(State(3), Sym('a'), State(7), Tropical(7))\n",
    "\n",
    "fsa.add_arc(State(5), Sym('a'), State(2), Tropical(3))\n",
    "\n",
    "fsa.add_arc(State(7), Sym('a'), State(5), Tropical(3))\n",
    "\n",
    "fsa.add_arc(State(8), Sym('a'), State(7), Tropical(3))\n",
    "\n",
    "fsa.set_I(State(3), Tropical(3))\n",
    "fsa.set_F(State(2), Tropical(4))\n",
    "fsa.set_F(State(7), Tropical(2))\n",
    "\n",
    "fsa"
   ]
  },
  {
   "cell_type": "code",
   "execution_count": null,
   "metadata": {},
   "outputs": [],
   "source": [
    "pprint(Pathsum(fsa).lehmann())"
   ]
  },
  {
   "cell_type": "code",
   "execution_count": null,
   "metadata": {},
   "outputs": [],
   "source": [
    "pprint(Pathsum(fsa).pathsum(strategy=Strategy.LEHMANN))"
   ]
  },
  {
   "cell_type": "markdown",
   "metadata": {},
   "source": [
    "Again, the cycle does not affect the pathsum"
   ]
  },
  {
   "cell_type": "markdown",
   "metadata": {},
   "source": [
    "## Example 4"
   ]
  },
  {
   "cell_type": "markdown",
   "metadata": {},
   "source": [
    "Connected components by hand"
   ]
  },
  {
   "cell_type": "code",
   "execution_count": null,
   "metadata": {},
   "outputs": [],
   "source": [
    "fsa = FSA(R=Real)\n",
    "\n",
    "fsa.add_arc(State(2), Sym('a'), State(5), Real(0.1))\n",
    "\n",
    "fsa.add_arc(State(3), Sym('a'), State(6), Real(0.1))\n",
    "fsa.add_arc(State(3), Sym('b'), State(1), Real(0.7))\n",
    "\n",
    "fsa.add_arc(State(1), Sym('c'), State(3), Real(0.3))\n",
    "fsa.add_arc(State(1), Sym('c'), State(5), Real(0.3))\n",
    "fsa.add_arc(State(1), Sym('b'), State(4), Real(0.1))\n",
    "\n",
    "fsa.add_arc(State(4), Sym('a'), State(2), Real(0.5))\n",
    "\n",
    "fsa.add_arc(State(5), Sym('a'), State(7), Real(0.8))\n",
    "\n",
    "fsa.add_arc(State(6), Sym('a'), State(7), Real(0.7))\n",
    "fsa.add_arc(State(6), Sym('a'), State(3), Real(0.1))\n",
    "\n",
    "fsa.add_arc(State(7), Sym('a'), State(8), Real(0.2))\n",
    "\n",
    "fsa.add_arc(State(8), Sym('a'), State(7), Real(0.2))\n",
    "fsa.add_arc(State(8), Sym('a'), State(2), Real(0.2))\n",
    "\n",
    "fsa.set_I(State(3), Real(0.3))\n",
    "fsa.set_F(State(2), Real(0.4))\n",
    "fsa.set_F(State(7), Real(0.2))\n",
    "\n",
    "fsa"
   ]
  },
  {
   "cell_type": "code",
   "execution_count": null,
   "metadata": {},
   "outputs": [],
   "source": [
    "list(fsa.finish())"
   ]
  }
 ],
 "metadata": {
  "kernelspec": {
   "display_name": "rayuela",
   "language": "python",
   "name": "python3"
  },
  "language_info": {
   "codemirror_mode": {
    "name": "ipython",
    "version": 3
   },
   "file_extension": ".py",
   "mimetype": "text/x-python",
   "name": "python",
   "nbconvert_exporter": "python",
   "pygments_lexer": "ipython3",
   "version": "3.10.9"
  },
  "orig_nbformat": 4,
  "vscode": {
   "interpreter": {
    "hash": "a6fe8fb0d2f34273f26edd12c77b360f83aa5fb290def9374d058e2d145f3b3a"
   }
  }
 },
 "nbformat": 4,
 "nbformat_minor": 2
}

{
 "cells": [
  {
   "cell_type": "markdown",
   "metadata": {},
   "source": [
    "### Imports"
   ]
  },
  {
   "cell_type": "code",
   "execution_count": null,
   "metadata": {},
   "outputs": [],
   "source": [
    "from fractions import Fraction"
   ]
  },
  {
   "cell_type": "code",
   "execution_count": null,
   "metadata": {},
   "outputs": [],
   "source": [
    "from rayuela.base.semiring import Boolean, Real, Tropical, \\\n",
    "    String, Integer, Rational\n",
    "from rayuela.base.symbol import Sym, ε\n",
    "from rayuela.fsa.fsa import FSA\n",
    "from rayuela.fsa.state import State"
   ]
  },
  {
   "cell_type": "markdown",
   "metadata": {},
   "source": [
    "## Example 2"
   ]
  },
  {
   "cell_type": "markdown",
   "metadata": {},
   "source": [
    "A simple FSA"
   ]
  },
  {
   "cell_type": "code",
   "execution_count": null,
   "metadata": {},
   "outputs": [],
   "source": [
    "fsa = FSA(Boolean)\n",
    "\n",
    "# We can directly add edges between the states without adding the states first.\n",
    "# The states will be created automatically.\n",
    "fsa.add_arc(State(1), Sym('a'), State(2))\n",
    "fsa.add_arc(State(1), Sym('b'), State(3))\n",
    "\n",
    "fsa.add_arc(State(2), Sym('b'), State(2))\n",
    "fsa.add_arc(State(2), Sym('c'), State(4))\n",
    "\n",
    "fsa.add_arc(State(3), Sym('c'), State(4))\n",
    "fsa.add_arc(State(3), Sym('b'), State(5))\n",
    "\n",
    "fsa.add_arc(State(4), Sym('a'), State(6))\n",
    "fsa.add_arc(State(5), Sym('a'), State(6))\n",
    "\n",
    "# Add initial and final states\n",
    "fsa.set_I(State(1))\n",
    "fsa.set_F(State(6))"
   ]
  },
  {
   "cell_type": "markdown",
   "metadata": {},
   "source": [
    "### Visualize the FSA"
   ]
  },
  {
   "cell_type": "code",
   "execution_count": null,
   "metadata": {},
   "outputs": [],
   "source": [
    "fsa"
   ]
  },
  {
   "cell_type": "markdown",
   "metadata": {},
   "source": [
    "The **green** states denote the starting ones. The **red** ones are final. The **blue** ones are neither. If the state is *both* starting and final, it will be **purple**.\n",
    "\n",
    "Note that you can scroll through the image."
   ]
  },
  {
   "cell_type": "markdown",
   "metadata": {},
   "source": [
    "## Example 3"
   ]
  },
  {
   "cell_type": "markdown",
   "metadata": {},
   "source": [
    "Working with semirings in `rayuela`"
   ]
  },
  {
   "cell_type": "markdown",
   "metadata": {},
   "source": [
    "The syntax `R(w)` for a semiring `R` is used to initialize the elements of a semiring."
   ]
  },
  {
   "cell_type": "code",
   "execution_count": null,
   "metadata": {},
   "outputs": [],
   "source": [
    "one = Real(1.0)\n",
    "zero = Real(0.0)\n",
    "\n",
    "a = Real(0.42)\n",
    "b = Real(0.23)\n",
    "\n",
    "# You can perform the semiring operations on the elements directly\n",
    "print(f'a ⊕ b = {a + b}')\n",
    "print(f'a ⊗ b = {a * b}')"
   ]
  },
  {
   "cell_type": "markdown",
   "metadata": {},
   "source": [
    "The results of the operations of course depend on the semiring used"
   ]
  },
  {
   "cell_type": "code",
   "execution_count": null,
   "metadata": {},
   "outputs": [],
   "source": [
    "a = Tropical(0.42)\n",
    "b = Tropical(0.23)\n",
    "\n",
    "# You can perform the semiring operations on the elements directly\n",
    "print(f'a ⊕ b = {a + b}')\n",
    "print(f'a ⊗ b = {a * b}')"
   ]
  },
  {
   "cell_type": "code",
   "execution_count": null,
   "metadata": {},
   "outputs": [],
   "source": [
    "a = String('aadrvark')\n",
    "b = String('alphabet')\n",
    "\n",
    "# You can perform the semiring operations on the elements directly\n",
    "print(f'a ⊕ b = {a + b}')\n",
    "print(f'a ⊗ b = {a * b}')"
   ]
  },
  {
   "cell_type": "markdown",
   "metadata": {},
   "source": [
    "## Example 4"
   ]
  },
  {
   "cell_type": "markdown",
   "metadata": {},
   "source": [
    "WFSA in different semirings"
   ]
  },
  {
   "cell_type": "markdown",
   "metadata": {},
   "source": [
    "#### Real semiring"
   ]
  },
  {
   "cell_type": "code",
   "execution_count": null,
   "metadata": {},
   "outputs": [],
   "source": [
    "fsa = FSA(Real)\n",
    "\n",
    "# We can directly add edges between the states without adding the states first.\n",
    "# The states will be created automatically.\n",
    "fsa.add_arc(State(1), Sym('a'), State(2), Real(0.5))\n",
    "fsa.add_arc(State(1), Sym('b'), State(3), Real(0.42))\n",
    "\n",
    "fsa.add_arc(State(2), Sym('b'), State(2), Real(0.63))\n",
    "fsa.add_arc(State(2), Sym('c'), State(4), Real(0.9))\n",
    "\n",
    "fsa.add_arc(State(3), Sym('c'), State(4), Real(0.21))\n",
    "fsa.add_arc(State(3), Sym('b'), State(5), Real(0.13))\n",
    "\n",
    "fsa.add_arc(State(4), Sym('a'), State(6), Real(0.72))\n",
    "fsa.add_arc(State(5), Sym('a'), State(6), Real(0.29))\n",
    "\n",
    "# Add initial and final states\n",
    "# This time, we also add weights to the inital / final states.\n",
    "fsa.set_I(State(1), Real(0.3))\n",
    "fsa.set_F(State(6), Real(0.1))\n",
    "\n",
    "fsa"
   ]
  },
  {
   "cell_type": "markdown",
   "metadata": {},
   "source": [
    "#### Tropical semiring"
   ]
  },
  {
   "cell_type": "code",
   "execution_count": null,
   "metadata": {},
   "outputs": [],
   "source": [
    "fsa = FSA(Tropical)\n",
    "\n",
    "# We can directly add edges between the states without adding the states first.\n",
    "# The states will be created automatically.\n",
    "fsa.add_arc(State(1), Sym('a'), State(2), Tropical(0.5))\n",
    "fsa.add_arc(State(1), Sym('b'), State(3), Tropical(0.42))\n",
    "\n",
    "fsa.add_arc(State(2), Sym('b'), State(2), Tropical(0.63))\n",
    "fsa.add_arc(State(2), Sym('c'), State(4), Tropical(0.9))\n",
    "\n",
    "fsa.add_arc(State(3), Sym('c'), State(4), Tropical(0.21))\n",
    "fsa.add_arc(State(3), Sym('b'), State(5), Tropical(0.13))\n",
    "\n",
    "fsa.add_arc(State(4), Sym('a'), State(6), Tropical(0.72))\n",
    "fsa.add_arc(State(5), Sym('a'), State(6), Tropical(0.29))\n",
    "\n",
    "# Add initial and final states\n",
    "# This time, we also add weights to the inital / final states.\n",
    "fsa.set_I(State(1), Tropical(0.3))\n",
    "fsa.set_F(State(6), Tropical(0.1))\n",
    "\n",
    "fsa"
   ]
  },
  {
   "cell_type": "markdown",
   "metadata": {},
   "source": [
    "#### Integer semiring"
   ]
  },
  {
   "cell_type": "code",
   "execution_count": null,
   "metadata": {},
   "outputs": [],
   "source": [
    "fsa = FSA(Integer)\n",
    "\n",
    "# We can directly add edges between the states without adding the states first.\n",
    "# The states will be created automatically.\n",
    "fsa.add_arc(State(1), Sym('a'), State(2), Integer(5))\n",
    "fsa.add_arc(State(1), Sym('b'), State(3), Integer(42))\n",
    "\n",
    "fsa.add_arc(State(2), Sym('b'), State(2), Integer(63))\n",
    "fsa.add_arc(State(2), Sym('c'), State(4), Integer(9))\n",
    "\n",
    "fsa.add_arc(State(3), Sym('c'), State(4), Integer(21))\n",
    "fsa.add_arc(State(3), Sym('b'), State(5), Integer(13))\n",
    "\n",
    "fsa.add_arc(State(4), Sym('a'), State(6), Integer(72))\n",
    "fsa.add_arc(State(5), Sym('a'), State(6), Integer(29))\n",
    "\n",
    "# Add initial and final states\n",
    "# This time, we also add weights to the inital / final states.\n",
    "fsa.set_I(State(1), Integer(3))\n",
    "fsa.set_F(State(6), Integer(1))\n",
    "\n",
    "fsa"
   ]
  },
  {
   "cell_type": "markdown",
   "metadata": {},
   "source": [
    "#### Rational semiring"
   ]
  },
  {
   "cell_type": "code",
   "execution_count": null,
   "metadata": {},
   "outputs": [],
   "source": [
    "fsa = FSA(Rational)\n",
    "\n",
    "# We can directly add edges between the states without adding the states first.\n",
    "# The states will be created automatically.\n",
    "fsa.add_arc(State(1), Sym('a'), State(2), Rational(Fraction('5/3')))\n",
    "fsa.add_arc(State(1), Sym('b'), State(3), Rational(Fraction('42/5')))\n",
    "\n",
    "fsa.add_arc(State(2), Sym('b'), State(2), Rational(Fraction('63/90')))\n",
    "fsa.add_arc(State(2), Sym('c'), State(4), Rational(Fraction('9/12')))\n",
    "\n",
    "fsa.add_arc(State(3), Sym('c'), State(4), Rational(Fraction('21/7')))\n",
    "fsa.add_arc(State(3), Sym('b'), State(5), Rational(Fraction('13/19')))\n",
    "\n",
    "fsa.add_arc(State(4), Sym('a'), State(6), Rational(Fraction('72/2')))\n",
    "fsa.add_arc(State(5), Sym('a'), State(6), Rational(Fraction('29/102')))\n",
    "\n",
    "# Add initial and final states\n",
    "# This time, we also add weights to the inital / final states.\n",
    "fsa.set_I(State(1), Rational(Fraction('3/10')))\n",
    "fsa.set_F(State(6), Rational(Fraction('1/18')))\n",
    "\n",
    "fsa"
   ]
  },
  {
   "cell_type": "markdown",
   "metadata": {},
   "source": [
    "#### String Semiring"
   ]
  },
  {
   "cell_type": "code",
   "execution_count": null,
   "metadata": {},
   "outputs": [],
   "source": [
    "fsa = FSA(String)\n",
    "\n",
    "# We can directly add edges between the states without adding the states first.\n",
    "# The states will be created automatically.\n",
    "fsa.add_arc(State(1), Sym('a'), State(2), String('x'))\n",
    "fsa.add_arc(State(1), Sym('b'), State(3), String('y'))\n",
    "\n",
    "fsa.add_arc(State(2), Sym('b'), State(2), String('z'))\n",
    "fsa.add_arc(State(2), Sym('c'), State(4), String('xy'))\n",
    "\n",
    "fsa.add_arc(State(3), Sym('c'), State(4), String('xyz'))\n",
    "fsa.add_arc(State(3), Sym('b'), State(5), String('yx'))\n",
    "\n",
    "fsa.add_arc(State(4), Sym('a'), State(6), String('y'))\n",
    "fsa.add_arc(State(5), Sym('a'), State(6), String('xzy'))\n",
    "\n",
    "# Add initial and final states\n",
    "# This time, we also add weights to the inital / final states.\n",
    "fsa.set_I(State(1), String('i'))\n",
    "fsa.set_F(State(6), String('f'))\n",
    "\n",
    "fsa"
   ]
  },
  {
   "cell_type": "markdown",
   "metadata": {},
   "source": [
    "## Example 5"
   ]
  },
  {
   "cell_type": "markdown",
   "metadata": {},
   "source": [
    "A bi-gram language model as a WFSA"
   ]
  },
  {
   "cell_type": "code",
   "execution_count": null,
   "metadata": {},
   "outputs": [],
   "source": [
    "fsa = FSA(Real)\n",
    "\n",
    "fsa.add_arc(State(1, '<BOS>'), Sym('<BOS>'), State(1, '<BOS>'), Real(0.0))\n",
    "fsa.add_arc(State(1, '<BOS>'), Sym('formal'), State(2, 'formal'), Real(0.4))\n",
    "fsa.add_arc(State(1, '<BOS>'), Sym('language'), State(3, 'language'), Real(0.2))\n",
    "fsa.add_arc(State(1, '<BOS>'), Sym('theory'), State(4, 'theory'), Real(0.2))\n",
    "fsa.add_arc(State(1, '<BOS>'), Sym('<EOS>'), State(5, '<EOS>'), Real(0.2))\n",
    "fsa.add_arc(State(2, 'formal'), Sym('<BOS>'), State(1, '<BOS>'), Real(0.0))\n",
    "fsa.add_arc(State(2, 'formal'), Sym('formal'), State(2, 'formal'), Real(0.1))\n",
    "fsa.add_arc(State(2, 'formal'), Sym('language'), State(3, 'language'), Real(0.4))\n",
    "fsa.add_arc(State(2, 'formal'), Sym('theory'), State(4, 'theory'), Real(0.2))\n",
    "fsa.add_arc(State(2, 'formal'), Sym('<EOS>'), State(5, '<EOS>'), Real(0.3))\n",
    "fsa.add_arc(State(3, 'language'), Sym('<BOS>'), State(1, '<BOS>'), Real(0.0))\n",
    "fsa.add_arc(State(3, 'language'), Sym('formal'), State(2, 'formal'), Real(0.1))\n",
    "fsa.add_arc(State(3, 'language'), Sym('language'), State(3, 'language'), Real(0.1))\n",
    "fsa.add_arc(State(3, 'language'), Sym('theory'), State(4, 'theory'), Real(0.4))\n",
    "fsa.add_arc(State(3, 'language'), Sym('<EOS>'), State(5, '<EOS>'), Real(0.4))\n",
    "fsa.add_arc(State(4, 'theory'), Sym('<BOS>'), State(1, '<BOS>'), Real(0.0))\n",
    "fsa.add_arc(State(4, 'theory'), Sym('formal'), State(2, 'formal'), Real(0.2))\n",
    "fsa.add_arc(State(4, 'theory'), Sym('language'), State(3, 'language'), Real(0.2))\n",
    "fsa.add_arc(State(4, 'theory'), Sym('theory'), State(4, 'theory'), Real(0.1))\n",
    "fsa.add_arc(State(4, 'theory'), Sym('<EOS>'), State(5, '<EOS>'), Real(0.5))\n",
    "fsa.add_arc(State(5, '<EOS>'), Sym('<BOS>'), State(1, '<BOS>'), Real(1.0))\n",
    "fsa.add_arc(State(5, '<EOS>'), Sym('formal'), State(2, 'formal'), Real(0.0))\n",
    "fsa.add_arc(State(5, '<EOS>'), Sym('language'), State(3, 'language'), Real(0.0))\n",
    "fsa.add_arc(State(5, '<EOS>'), Sym('theory'), State(4, 'theory'), Real(0.0))\n",
    "fsa.add_arc(State(5, '<EOS>'), Sym('<EOS>'), State(5, '<EOS>'), Real(0.0))\n",
    "\n",
    "fsa.add_I(State(1, '<BOS>'), Real(1.0))\n",
    "fsa.add_F(State(5, '<EOS>'), Real(1.0))\n",
    "\n",
    "fsa"
   ]
  },
  {
   "cell_type": "markdown",
   "metadata": {},
   "source": [
    "## Example 6"
   ]
  },
  {
   "cell_type": "markdown",
   "metadata": {},
   "source": [
    "An HMM as a WFSA"
   ]
  },
  {
   "cell_type": "code",
   "execution_count": null,
   "metadata": {},
   "outputs": [],
   "source": [
    "fsa = FSA(Real)\n",
    "\n",
    "fsa.add_arc(State(1, 'COLD'), Sym('1'), State(2, 'HOT'), Real(0.5 * 0.5))\n",
    "fsa.add_arc(State(1, 'COLD'), Sym('2'), State(2, 'HOT'), Real(0.5 * 0.4))\n",
    "fsa.add_arc(State(1, 'COLD'), Sym('3'), State(2, 'HOT'), Real(0.5 * 0.1))\n",
    "fsa.add_arc(State(1, 'COLD'), Sym('1'), State(1, 'COLD'), Real(0.5 * 0.5))\n",
    "fsa.add_arc(State(1, 'COLD'), Sym('2'), State(1, 'COLD'), Real(0.5 * 0.4))\n",
    "fsa.add_arc(State(1, 'COLD'), Sym('3'), State(1, 'COLD'), Real(0.5 * 0.1))\n",
    "fsa.add_arc(State(2, 'HOT'), Sym('1'), State(1, 'COLD'), Real(0.4 * 0.2))\n",
    "fsa.add_arc(State(2, 'HOT'), Sym('2'), State(1, 'COLD'), Real(0.4 * 0.4))\n",
    "fsa.add_arc(State(2, 'HOT'), Sym('3'), State(1, 'COLD'), Real(0.4 * 0.4))\n",
    "fsa.add_arc(State(2, 'HOT'), Sym('1'), State(2, 'HOT'), Real(0.6 * 0.2))\n",
    "fsa.add_arc(State(2, 'HOT'), Sym('2'), State(2, 'HOT'), Real(0.6 * 0.4))\n",
    "fsa.add_arc(State(2, 'HOT'), Sym('3'), State(2, 'HOT'), Real(0.6 * 0.4))\n",
    "\n",
    "fsa.add_I(State(1, 'COLD'), Real(0.2))\n",
    "fsa.add_I(State(2, 'HOT'), Real(0.8))\n",
    "fsa.add_F(State(1, 'COLD'), Real(1.0))\n",
    "fsa.add_F(State(2, 'HOT'), Real(1.0))\n",
    "\n",
    "fsa"
   ]
  },
  {
   "cell_type": "markdown",
   "metadata": {},
   "source": [
    "## Example 7"
   ]
  },
  {
   "cell_type": "markdown",
   "metadata": {},
   "source": [
    "Weighted intersection of two WFSA"
   ]
  },
  {
   "cell_type": "code",
   "execution_count": null,
   "metadata": {},
   "outputs": [],
   "source": [
    "fsa1 = FSA(R=Real)\n",
    "\n",
    "fsa1.add_arc(State(0), Sym('b'), State(1), w=Real(0.1))\n",
    "\n",
    "fsa1.add_arc(State(1), Sym('b'), State(0), w=Real(0.2))\n",
    "fsa1.add_arc(State(1), Sym('b'), State(2), w=Real(0.3))\n",
    "fsa1.add_arc(State(1), Sym('b'), State(3), w=Real(0.4))\n",
    "fsa1.add_arc(State(2), Sym('b'), State(3), w=Real(0.5))\n",
    "fsa1.add_arc(State(3), Sym('a'), State(3), w=Real(0.6))\n",
    "\n",
    "fsa1.set_I(State(0), w=fsa1.R.one)\n",
    "fsa1.add_F(State(3), w=fsa1.R(0.7))\n",
    "\n",
    "\n",
    "fsa2 = FSA(R=Real)\n",
    "fsa2.set_I(State(0), w=Real(1.0))\n",
    "\n",
    "fsa2.add_arc(State(0), Sym('b'), State(1), w=Real(0.1))\n",
    "fsa2.add_arc(State(1), Sym('b'), State(1), w=Real(0.2))\n",
    "fsa2.add_arc(State(1), Sym('a'), State(2), w=Real(0.3))\n",
    "fsa2.add_arc(State(1), Sym('a'), State(3), w=Real(0.4))\n",
    "fsa2.add_arc(State(2), Sym('b'), State(3), w=Real(0.5))\n",
    "\n",
    "fsa2.add_F(State(3), w=Real(0.6))"
   ]
  },
  {
   "cell_type": "code",
   "execution_count": null,
   "metadata": {},
   "outputs": [],
   "source": [
    "fsa1"
   ]
  },
  {
   "cell_type": "code",
   "execution_count": null,
   "metadata": {},
   "outputs": [],
   "source": [
    "fsa2"
   ]
  },
  {
   "cell_type": "code",
   "execution_count": null,
   "metadata": {},
   "outputs": [],
   "source": [
    "fsa1.intersect(fsa2)"
   ]
  },
  {
   "cell_type": "markdown",
   "metadata": {},
   "source": [
    "## Example 8"
   ]
  },
  {
   "cell_type": "markdown",
   "metadata": {},
   "source": [
    "Handling  $\\epsilon$-transitions."
   ]
  },
  {
   "cell_type": "code",
   "execution_count": null,
   "metadata": {},
   "outputs": [],
   "source": [
    "fsa1 = FSA(R=Real)\n",
    "\n",
    "fsa1.add_arc(State(0), Sym('a'), State(1), w=Real.one)\n",
    "\n",
    "# ε is a special predefined symbol\n",
    "fsa1.add_arc(State(1), ε, State(2), w=Real.one)\n",
    "\n",
    "fsa1.add_arc(State(2), ε, State(3), w=Real.one)\n",
    "\n",
    "fsa1.add_arc(State(3), Sym('b'), State(4), w=Real.one)\n",
    "\n",
    "fsa1.set_I(State(0), w=Real.one)\n",
    "fsa1.add_F(State(4), w=Real.one)\n",
    "\n",
    "\n",
    "fsa2 = FSA(R=Real)\n",
    "\n",
    "fsa2.add_arc(State(0), Sym('a'), State(1), w=Real.one)\n",
    "\n",
    "fsa2.add_arc(State(1), ε, State(2), w=Real.one)\n",
    "\n",
    "fsa2.add_arc(State(2), Sym('b'), State(3), w=Real.one)\n",
    "\n",
    "fsa2.set_I(State(0), w=Real.one)\n",
    "fsa2.add_F(State(3), w=Real.one)\n"
   ]
  },
  {
   "cell_type": "markdown",
   "metadata": {},
   "source": [
    "Both WFSA contain $\\epsilon$-transitions."
   ]
  },
  {
   "cell_type": "code",
   "execution_count": null,
   "metadata": {},
   "outputs": [],
   "source": [
    "fsa1"
   ]
  },
  {
   "cell_type": "code",
   "execution_count": null,
   "metadata": {},
   "outputs": [],
   "source": [
    "fsa2"
   ]
  },
  {
   "cell_type": "markdown",
   "metadata": {},
   "source": [
    "The correctly constructed intersection only has 1 possible path."
   ]
  },
  {
   "cell_type": "code",
   "execution_count": null,
   "metadata": {},
   "outputs": [],
   "source": [
    "fsa1.intersect(fsa2).trim()"
   ]
  },
  {
   "cell_type": "markdown",
   "metadata": {},
   "source": [
    "#### The $\\epsilon$`-filter`"
   ]
  },
  {
   "cell_type": "markdown",
   "metadata": {},
   "source": [
    "The following automaton implements the $\\epsilon$-`filter` without the sink state $\\bot$ for clarity."
   ]
  },
  {
   "cell_type": "code",
   "execution_count": null,
   "metadata": {},
   "outputs": [],
   "source": [
    "F = FSA(Real)\n",
    "\n",
    "F.add_arc(State(0), Sym('a:a'), State(0), w=Real.one)\n",
    "F.add_arc(State(0), Sym('ε2:ε1'), State(0), w=Real.one)\n",
    "F.add_arc(State(0), Sym('ε1:ε1'), State(1), w=Real.one)\n",
    "F.add_arc(State(0), Sym('ε2:ε2'), State(2), w=Real.one)\n",
    "\n",
    "F.add_arc(State(1), Sym('a:a'), State(0), w=Real.one)\n",
    "F.add_arc(State(1), Sym('ε1:ε1'), State(1), w=Real.one)\n",
    "\n",
    "F.add_arc(State(2), Sym('a:a'), State(0), w=Real.one)\n",
    "F.add_arc(State(2), Sym('ε2:ε2'), State(2), w=Real.one)\n",
    "\n",
    "F.add_arc(State(0), Sym('ε1:ε2'), State('⊥'), w=Real.one)\n",
    "F.add_arc(State(1), Sym('ε1:ε2'), State('⊥'), w=Real.one)\n",
    "F.add_arc(State(1), Sym('ε2:ε1'), State('⊥'), w=Real.one)\n",
    "F.add_arc(State(1), Sym('ε2:ε2'), State('⊥'), w=Real.one)\n",
    "F.add_arc(State(2), Sym('ε1:ε1'), State('⊥'), w=Real.one)\n",
    "F.add_arc(State(2), Sym('ε1:ε2'), State('⊥'), w=Real.one)\n",
    "F.add_arc(State(2), Sym('ε2:ε1'), State('⊥'), w=Real.one)\n",
    "\n",
    "F.set_I(State(0), w=Real.one)\n",
    "F.add_F(State(0), w=Real.one)\n",
    "F.add_F(State(1), w=Real.one)\n",
    "F.add_F(State(2), w=Real.one)\n",
    "\n",
    "F\n"
   ]
  },
  {
   "cell_type": "code",
   "execution_count": null,
   "metadata": {},
   "outputs": [],
   "source": []
  },
  {
   "cell_type": "code",
   "execution_count": null,
   "metadata": {},
   "outputs": [],
   "source": []
  }
 ],
 "metadata": {
  "kernelspec": {
   "display_name": "rayuela",
   "language": "python",
   "name": "python3"
  },
  "language_info": {
   "codemirror_mode": {
    "name": "ipython",
    "version": 3
   },
   "file_extension": ".py",
   "mimetype": "text/x-python",
   "name": "python",
   "nbconvert_exporter": "python",
   "pygments_lexer": "ipython3",
   "version": "3.10.9"
  },
  "vscode": {
   "interpreter": {
    "hash": "a6fe8fb0d2f34273f26edd12c77b360f83aa5fb290def9374d058e2d145f3b3a"
   }
  }
 },
 "nbformat": 4,
 "nbformat_minor": 4
}
